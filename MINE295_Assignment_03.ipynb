{
 "cells": [
  {
   "cell_type": "markdown",
   "source": [
    "# Assignment 02\r\n",
    "**MIN E 295**  \r\n",
    "Help Session\r\n",
    "\r\n",
    "Harold Velasquez  hvelasquez@ualberta.ca  \r\n",
    "Norris Amihere   namihere@ualberta.ca\r\n",
    "\r\n",
    "University of Alberta  "
   ],
   "metadata": {}
  },
  {
   "cell_type": "markdown",
   "source": [
    "## **Question 1**"
   ],
   "metadata": {}
  },
  {
   "cell_type": "markdown",
   "source": [
    "**a) Draw the sampling locations using a computer program or simply by hand on a paper**"
   ],
   "metadata": {}
  },
  {
   "cell_type": "markdown",
   "source": [
    "The inverse distance weighting estimation formula is given as follows:  \r\n",
    "  \r\n",
    "$z^{*}\\left(\\mathbf{u}_{0}\\right)=\\frac{\\sum_{i=1}^{n} w\\left(\\mathbf{u}_{i}\\right) z\\left(\\mathbf{u}_{i}\\right)}{\\sum_{i=1}^{n} w\\left(\\mathbf{u}_{i}\\right)}$\r\n",
    "\r\n",
    "\r\n",
    "Where $z^{*}(u_{o})$ is the estimate assigned to the unknown location; $𝑧(u_{i})$ is the 𝑖th sample of the variable and $w(u_{i`})$ is the weight assigned to each available sample $z(u_{i})$. The weight $w(u_{i})$ is calculated by the following formula:  \r\n",
    "  \r\n",
    "  $w\\left(\\mathbf{u}_{i}\\right)=\\frac{1}{d_{i}^{p}}$\r\n",
    "\r\n",
    "\r\n",
    "Where $d_{i}$  is the Euclidean distance between the sample and the location being estimated and the exponent 𝑝 is the parameter controlling the degree to which the nearer samples are preferredover more distant samples. Table contains four spatial (with coordinates easting and northing) samples and the location where an estimate for a measurement of interest is needed."
   ],
   "metadata": {}
  },
  {
   "cell_type": "code",
   "execution_count": 16,
   "source": [
    "import matplotlib.pyplot as plt\r\n",
    "import pandas as pd\r\n",
    "import numpy as np"
   ],
   "outputs": [],
   "metadata": {}
  },
  {
   "cell_type": "code",
   "execution_count": 17,
   "source": [
    "data = [[10,20,40], [30,280,130], [250,130,90], [360,120,160]]\r\n",
    "z    = [180,120]\r\n",
    "columns = ['X','Y','value']\r\n",
    "\r\n",
    "df = pd.DataFrame(data, columns=columns)\r\n",
    "df"
   ],
   "outputs": [
    {
     "output_type": "execute_result",
     "data": {
      "text/html": [
       "<div>\n",
       "<style scoped>\n",
       "    .dataframe tbody tr th:only-of-type {\n",
       "        vertical-align: middle;\n",
       "    }\n",
       "\n",
       "    .dataframe tbody tr th {\n",
       "        vertical-align: top;\n",
       "    }\n",
       "\n",
       "    .dataframe thead th {\n",
       "        text-align: right;\n",
       "    }\n",
       "</style>\n",
       "<table border=\"1\" class=\"dataframe\">\n",
       "  <thead>\n",
       "    <tr style=\"text-align: right;\">\n",
       "      <th></th>\n",
       "      <th>X</th>\n",
       "      <th>Y</th>\n",
       "      <th>value</th>\n",
       "    </tr>\n",
       "  </thead>\n",
       "  <tbody>\n",
       "    <tr>\n",
       "      <th>0</th>\n",
       "      <td>10</td>\n",
       "      <td>20</td>\n",
       "      <td>40</td>\n",
       "    </tr>\n",
       "    <tr>\n",
       "      <th>1</th>\n",
       "      <td>30</td>\n",
       "      <td>280</td>\n",
       "      <td>130</td>\n",
       "    </tr>\n",
       "    <tr>\n",
       "      <th>2</th>\n",
       "      <td>250</td>\n",
       "      <td>130</td>\n",
       "      <td>90</td>\n",
       "    </tr>\n",
       "    <tr>\n",
       "      <th>3</th>\n",
       "      <td>360</td>\n",
       "      <td>120</td>\n",
       "      <td>160</td>\n",
       "    </tr>\n",
       "  </tbody>\n",
       "</table>\n",
       "</div>"
      ],
      "text/plain": [
       "     X    Y  value\n",
       "0   10   20     40\n",
       "1   30  280    130\n",
       "2  250  130     90\n",
       "3  360  120    160"
      ]
     },
     "metadata": {},
     "execution_count": 17
    }
   ],
   "metadata": {}
  },
  {
   "cell_type": "code",
   "execution_count": 18,
   "source": [
    "plt.scatter(df['X'], df['Y'], c='r', edgecolor='k')\r\n",
    "plt.scatter(z[0], z[1], c='b', edgecolor='k')\r\n",
    "plt.xlabel('Easting')\r\n",
    "plt.ylabel('Northing')\r\n",
    "plt.grid()"
   ],
   "outputs": [
    {
     "output_type": "display_data",
     "data": {
      "image/png": "[encoded data removed]",
      "text/plain": [
       "<Figure size 432x288 with 1 Axes>"
      ]
     },
     "metadata": {
      "needs_background": "light"
     }
    }
   ],
   "metadata": {}
  },
  {
   "cell_type": "markdown",
   "source": [
    "**b) Assign an estimate to the unknown location using the inverse distance weighting estimation method.** \r\n"
   ],
   "metadata": {}
  },
  {
   "cell_type": "code",
   "execution_count": 19,
   "source": [
    "df['Distance'] = ((df['X']-z[0])**2 + (df['Y'] - z[1])**2) **0.5\r\n",
    "df"
   ],
   "outputs": [
    {
     "output_type": "execute_result",
     "data": {
      "text/html": [
       "<div>\n",
       "<style scoped>\n",
       "    .dataframe tbody tr th:only-of-type {\n",
       "        vertical-align: middle;\n",
       "    }\n",
       "\n",
       "    .dataframe tbody tr th {\n",
       "        vertical-align: top;\n",
       "    }\n",
       "\n",
       "    .dataframe thead th {\n",
       "        text-align: right;\n",
       "    }\n",
       "</style>\n",
       "<table border=\"1\" class=\"dataframe\">\n",
       "  <thead>\n",
       "    <tr style=\"text-align: right;\">\n",
       "      <th></th>\n",
       "      <th>X</th>\n",
       "      <th>Y</th>\n",
       "      <th>value</th>\n",
       "      <th>Distance</th>\n",
       "    </tr>\n",
       "  </thead>\n",
       "  <tbody>\n",
       "    <tr>\n",
       "      <th>0</th>\n",
       "      <td>10</td>\n",
       "      <td>20</td>\n",
       "      <td>40</td>\n",
       "      <td>197.230829</td>\n",
       "    </tr>\n",
       "    <tr>\n",
       "      <th>1</th>\n",
       "      <td>30</td>\n",
       "      <td>280</td>\n",
       "      <td>130</td>\n",
       "      <td>219.317122</td>\n",
       "    </tr>\n",
       "    <tr>\n",
       "      <th>2</th>\n",
       "      <td>250</td>\n",
       "      <td>130</td>\n",
       "      <td>90</td>\n",
       "      <td>70.710678</td>\n",
       "    </tr>\n",
       "    <tr>\n",
       "      <th>3</th>\n",
       "      <td>360</td>\n",
       "      <td>120</td>\n",
       "      <td>160</td>\n",
       "      <td>180.000000</td>\n",
       "    </tr>\n",
       "  </tbody>\n",
       "</table>\n",
       "</div>"
      ],
      "text/plain": [
       "     X    Y  value    Distance\n",
       "0   10   20     40  197.230829\n",
       "1   30  280    130  219.317122\n",
       "2  250  130     90   70.710678\n",
       "3  360  120    160  180.000000"
      ]
     },
     "metadata": {},
     "execution_count": 19
    }
   ],
   "metadata": {}
  },
  {
   "cell_type": "markdown",
   "source": [
    "Weight assigned to each measurement is inversely proportional to the distance to the power of a parameter $p$  \r\n",
    "$w\\left(\\mathbf{u}_{i}\\right)=\\frac{1}{d_{i}^{p}}$"
   ],
   "metadata": {}
  },
  {
   "cell_type": "code",
   "execution_count": 20,
   "source": [
    "df['Weight'] = (df['Distance']**(-1))**2\r\n",
    "df"
   ],
   "outputs": [
    {
     "output_type": "execute_result",
     "data": {
      "text/html": [
       "<div>\n",
       "<style scoped>\n",
       "    .dataframe tbody tr th:only-of-type {\n",
       "        vertical-align: middle;\n",
       "    }\n",
       "\n",
       "    .dataframe tbody tr th {\n",
       "        vertical-align: top;\n",
       "    }\n",
       "\n",
       "    .dataframe thead th {\n",
       "        text-align: right;\n",
       "    }\n",
       "</style>\n",
       "<table border=\"1\" class=\"dataframe\">\n",
       "  <thead>\n",
       "    <tr style=\"text-align: right;\">\n",
       "      <th></th>\n",
       "      <th>X</th>\n",
       "      <th>Y</th>\n",
       "      <th>value</th>\n",
       "      <th>Distance</th>\n",
       "      <th>Weight</th>\n",
       "    </tr>\n",
       "  </thead>\n",
       "  <tbody>\n",
       "    <tr>\n",
       "      <th>0</th>\n",
       "      <td>10</td>\n",
       "      <td>20</td>\n",
       "      <td>40</td>\n",
       "      <td>197.230829</td>\n",
       "      <td>0.000026</td>\n",
       "    </tr>\n",
       "    <tr>\n",
       "      <th>1</th>\n",
       "      <td>30</td>\n",
       "      <td>280</td>\n",
       "      <td>130</td>\n",
       "      <td>219.317122</td>\n",
       "      <td>0.000021</td>\n",
       "    </tr>\n",
       "    <tr>\n",
       "      <th>2</th>\n",
       "      <td>250</td>\n",
       "      <td>130</td>\n",
       "      <td>90</td>\n",
       "      <td>70.710678</td>\n",
       "      <td>0.000200</td>\n",
       "    </tr>\n",
       "    <tr>\n",
       "      <th>3</th>\n",
       "      <td>360</td>\n",
       "      <td>120</td>\n",
       "      <td>160</td>\n",
       "      <td>180.000000</td>\n",
       "      <td>0.000031</td>\n",
       "    </tr>\n",
       "  </tbody>\n",
       "</table>\n",
       "</div>"
      ],
      "text/plain": [
       "     X    Y  value    Distance    Weight\n",
       "0   10   20     40  197.230829  0.000026\n",
       "1   30  280    130  219.317122  0.000021\n",
       "2  250  130     90   70.710678  0.000200\n",
       "3  360  120    160  180.000000  0.000031"
      ]
     },
     "metadata": {},
     "execution_count": 20
    }
   ],
   "metadata": {}
  },
  {
   "cell_type": "code",
   "execution_count": 21,
   "source": [
    "df['Weight*value'] = df['Weight'] * df['value']\r\n",
    "df"
   ],
   "outputs": [
    {
     "output_type": "execute_result",
     "data": {
      "text/html": [
       "<div>\n",
       "<style scoped>\n",
       "    .dataframe tbody tr th:only-of-type {\n",
       "        vertical-align: middle;\n",
       "    }\n",
       "\n",
       "    .dataframe tbody tr th {\n",
       "        vertical-align: top;\n",
       "    }\n",
       "\n",
       "    .dataframe thead th {\n",
       "        text-align: right;\n",
       "    }\n",
       "</style>\n",
       "<table border=\"1\" class=\"dataframe\">\n",
       "  <thead>\n",
       "    <tr style=\"text-align: right;\">\n",
       "      <th></th>\n",
       "      <th>X</th>\n",
       "      <th>Y</th>\n",
       "      <th>value</th>\n",
       "      <th>Distance</th>\n",
       "      <th>Weight</th>\n",
       "      <th>Weight*value</th>\n",
       "    </tr>\n",
       "  </thead>\n",
       "  <tbody>\n",
       "    <tr>\n",
       "      <th>0</th>\n",
       "      <td>10</td>\n",
       "      <td>20</td>\n",
       "      <td>40</td>\n",
       "      <td>197.230829</td>\n",
       "      <td>0.000026</td>\n",
       "      <td>0.001028</td>\n",
       "    </tr>\n",
       "    <tr>\n",
       "      <th>1</th>\n",
       "      <td>30</td>\n",
       "      <td>280</td>\n",
       "      <td>130</td>\n",
       "      <td>219.317122</td>\n",
       "      <td>0.000021</td>\n",
       "      <td>0.002703</td>\n",
       "    </tr>\n",
       "    <tr>\n",
       "      <th>2</th>\n",
       "      <td>250</td>\n",
       "      <td>130</td>\n",
       "      <td>90</td>\n",
       "      <td>70.710678</td>\n",
       "      <td>0.000200</td>\n",
       "      <td>0.018000</td>\n",
       "    </tr>\n",
       "    <tr>\n",
       "      <th>3</th>\n",
       "      <td>360</td>\n",
       "      <td>120</td>\n",
       "      <td>160</td>\n",
       "      <td>180.000000</td>\n",
       "      <td>0.000031</td>\n",
       "      <td>0.004938</td>\n",
       "    </tr>\n",
       "  </tbody>\n",
       "</table>\n",
       "</div>"
      ],
      "text/plain": [
       "     X    Y  value    Distance    Weight  Weight*value\n",
       "0   10   20     40  197.230829  0.000026      0.001028\n",
       "1   30  280    130  219.317122  0.000021      0.002703\n",
       "2  250  130     90   70.710678  0.000200      0.018000\n",
       "3  360  120    160  180.000000  0.000031      0.004938"
      ]
     },
     "metadata": {},
     "execution_count": 21
    }
   ],
   "metadata": {}
  },
  {
   "cell_type": "code",
   "execution_count": 22,
   "source": [
    "estimate = df['Weight*value'].sum() / df['Weight'].sum()\r\n",
    "print('Estimated value with IDW:', round(estimate,3))"
   ],
   "outputs": [
    {
     "output_type": "stream",
     "name": "stdout",
     "text": [
      "Estimated value with IDW: 96.154\n"
     ]
    }
   ],
   "metadata": {}
  },
  {
   "cell_type": "markdown",
   "source": [
    "## **Question 2**"
   ],
   "metadata": {}
  },
  {
   "cell_type": "markdown",
   "source": [
    " A mine’s expected gold price is 1900 USD/ozt and silver price of 25 USD/ozt. The\r\n",
    "conversion rate from CAD to USD is expected to be 1.33 CAD/USD. Recall that precious metal\r\n",
    "prices are expressed per troy ounce (ozt) not regular ounce. The anticipated mining operation will\r\n",
    "cost 60 CAD/t of ore to mine and 45 CAD/t of ore to process. Recovery of gold and silver will be\r\n",
    "0.9 and 0.8, respectively. \r\n"
   ],
   "metadata": {}
  },
  {
   "cell_type": "markdown",
   "source": [
    "**a) Calculate a factor to convert the silver grade to an equivalent gold grade**\r\n"
   ],
   "metadata": {}
  },
  {
   "cell_type": "code",
   "execution_count": 23,
   "source": [
    "price_au = 1900           # USD/ozt\r\n",
    "price_ag = 25             # USD/ozt\r\n",
    "currency_exchange = 1.33  # CAD/USD\r\n",
    "\r\n",
    "mining_cost = 60          # CAD/t\r\n",
    "processing_cost = 45      # CAD/t\r\n",
    "\r\n",
    "recovery_au = 0.9\r\n",
    "recovery_ag = 0.8"
   ],
   "outputs": [],
   "metadata": {}
  },
  {
   "cell_type": "code",
   "execution_count": 24,
   "source": [
    "price_au_cad    = price_au * currency_exchange   # CAT/ozt\r\n",
    "price_au_cad_gr = price_au_cad / 31.1035         # CAD/gr\r\n",
    "recovered_au    = price_au_cad_gr * recovery_au  # CAD/gr\r\n",
    "\r\n",
    "price_ag_cad    = price_ag * currency_exchange   # CAT/ozt\r\n",
    "price_ag_cad_gr = price_ag_cad / 31.1035         # CAD/gr\r\n",
    "recovered_ag    = price_au_cad_gr * recovery_ag  # CAD/gr\r\n",
    "\r\n",
    "print('Gold price CAD/g:' , price_au_cad_gr)\r\n",
    "print('Gold recovered CAD/g:',recovered_au,'\\n')\r\n",
    "\r\n",
    "print('Silver price in CAD/g:' , price_ag_cad_gr)\r\n",
    "print('Gold recovered CAD/g:',recovered_ag)"
   ],
   "outputs": [
    {
     "output_type": "stream",
     "name": "stdout",
     "text": [
      "Gold price CAD/g: 81.24487597858761\n",
      "Gold recovered CAD/g: 73.12038838072885 \n",
      "\n",
      "Silver price in CAD/g: 1.0690115260340476\n",
      "Gold recovered CAD/g: 64.9959007828701\n"
     ]
    }
   ],
   "metadata": {}
  },
  {
   "cell_type": "markdown",
   "source": [
    "The equivalent value of Silver with respect to Au is the ratio. Here the recovery is also considered."
   ],
   "metadata": {}
  },
  {
   "cell_type": "code",
   "execution_count": 25,
   "source": [
    "factor = (price_ag_cad*recovery_ag) / (price_au_cad * recovery_au)\r\n",
    "print('Conversion Factor:', round(factor,4))"
   ],
   "outputs": [
    {
     "output_type": "stream",
     "name": "stdout",
     "text": [
      "Conversion Factor: 0.0117\n"
     ]
    }
   ],
   "metadata": {}
  },
  {
   "cell_type": "markdown",
   "source": [
    "**b) Calculate the cutoff grade in units of g/t for gold**\r\n"
   ],
   "metadata": {}
  },
  {
   "cell_type": "code",
   "execution_count": 26,
   "source": [
    "total_cost = mining_cost + processing_cost\r\n",
    "\r\n",
    "cutoff_au = total_cost / recovered_au\r\n",
    "print('Cutoff for Gold:',round(cutoff_au,2),'g/t')"
   ],
   "outputs": [
    {
     "output_type": "stream",
     "name": "stdout",
     "text": [
      "Cutoff for Gold: 1.44 g/t\n"
     ]
    }
   ],
   "metadata": {}
  },
  {
   "cell_type": "markdown",
   "source": [
    "## **Question 3**"
   ],
   "metadata": {}
  },
  {
   "cell_type": "markdown",
   "source": [
    "You are considering a small gold/silver vein with 10 drill holes (plane of vein sketch in Figure 2) using the information in question 4. Assays and ore thickness perpendicular to the plane of vein are included in Table 2. The average specific gravity of the deposit is 2.9. The mineralized region is indicated by the red dashed line, but drill holes inside may not be profitable to process. "
   ],
   "metadata": {}
  },
  {
   "cell_type": "markdown",
   "source": [
    "**a) Calculate the gold equivalent grade for each drill hole.**"
   ],
   "metadata": {}
  },
  {
   "cell_type": "code",
   "execution_count": 27,
   "source": [
    "dh_data = [[1,1.2,1.5,40],[2,1.6,2.3,60],[3,0,0,20],\r\n",
    "        [4,2.5,11,180],[5,2.7,13.2,250],[6,0,0,30],\r\n",
    "        [7,2.2,9,150],[8,1.6,4.8,55],[9,2.6,8.4,175],[10,1.5,1.8,20]]\r\n",
    "\r\n",
    "columns = ['DDH','Thickness','au','ag']\r\n",
    "dh = pd.DataFrame(dh_data, columns=columns)\r\n",
    "dh"
   ],
   "outputs": [
    {
     "output_type": "execute_result",
     "data": {
      "text/html": [
       "<div>\n",
       "<style scoped>\n",
       "    .dataframe tbody tr th:only-of-type {\n",
       "        vertical-align: middle;\n",
       "    }\n",
       "\n",
       "    .dataframe tbody tr th {\n",
       "        vertical-align: top;\n",
       "    }\n",
       "\n",
       "    .dataframe thead th {\n",
       "        text-align: right;\n",
       "    }\n",
       "</style>\n",
       "<table border=\"1\" class=\"dataframe\">\n",
       "  <thead>\n",
       "    <tr style=\"text-align: right;\">\n",
       "      <th></th>\n",
       "      <th>DDH</th>\n",
       "      <th>Thickness</th>\n",
       "      <th>au</th>\n",
       "      <th>ag</th>\n",
       "    </tr>\n",
       "  </thead>\n",
       "  <tbody>\n",
       "    <tr>\n",
       "      <th>0</th>\n",
       "      <td>1</td>\n",
       "      <td>1.2</td>\n",
       "      <td>1.5</td>\n",
       "      <td>40</td>\n",
       "    </tr>\n",
       "    <tr>\n",
       "      <th>1</th>\n",
       "      <td>2</td>\n",
       "      <td>1.6</td>\n",
       "      <td>2.3</td>\n",
       "      <td>60</td>\n",
       "    </tr>\n",
       "    <tr>\n",
       "      <th>2</th>\n",
       "      <td>3</td>\n",
       "      <td>0.0</td>\n",
       "      <td>0.0</td>\n",
       "      <td>20</td>\n",
       "    </tr>\n",
       "    <tr>\n",
       "      <th>3</th>\n",
       "      <td>4</td>\n",
       "      <td>2.5</td>\n",
       "      <td>11.0</td>\n",
       "      <td>180</td>\n",
       "    </tr>\n",
       "    <tr>\n",
       "      <th>4</th>\n",
       "      <td>5</td>\n",
       "      <td>2.7</td>\n",
       "      <td>13.2</td>\n",
       "      <td>250</td>\n",
       "    </tr>\n",
       "    <tr>\n",
       "      <th>5</th>\n",
       "      <td>6</td>\n",
       "      <td>0.0</td>\n",
       "      <td>0.0</td>\n",
       "      <td>30</td>\n",
       "    </tr>\n",
       "    <tr>\n",
       "      <th>6</th>\n",
       "      <td>7</td>\n",
       "      <td>2.2</td>\n",
       "      <td>9.0</td>\n",
       "      <td>150</td>\n",
       "    </tr>\n",
       "    <tr>\n",
       "      <th>7</th>\n",
       "      <td>8</td>\n",
       "      <td>1.6</td>\n",
       "      <td>4.8</td>\n",
       "      <td>55</td>\n",
       "    </tr>\n",
       "    <tr>\n",
       "      <th>8</th>\n",
       "      <td>9</td>\n",
       "      <td>2.6</td>\n",
       "      <td>8.4</td>\n",
       "      <td>175</td>\n",
       "    </tr>\n",
       "    <tr>\n",
       "      <th>9</th>\n",
       "      <td>10</td>\n",
       "      <td>1.5</td>\n",
       "      <td>1.8</td>\n",
       "      <td>20</td>\n",
       "    </tr>\n",
       "  </tbody>\n",
       "</table>\n",
       "</div>"
      ],
      "text/plain": [
       "   DDH  Thickness    au   ag\n",
       "0    1        1.2   1.5   40\n",
       "1    2        1.6   2.3   60\n",
       "2    3        0.0   0.0   20\n",
       "3    4        2.5  11.0  180\n",
       "4    5        2.7  13.2  250\n",
       "5    6        0.0   0.0   30\n",
       "6    7        2.2   9.0  150\n",
       "7    8        1.6   4.8   55\n",
       "8    9        2.6   8.4  175\n",
       "9   10        1.5   1.8   20"
      ]
     },
     "metadata": {},
     "execution_count": 27
    }
   ],
   "metadata": {}
  },
  {
   "cell_type": "markdown",
   "source": [
    "Equivalent Au consider the scaled contribution of Ag"
   ],
   "metadata": {}
  },
  {
   "cell_type": "code",
   "execution_count": 28,
   "source": [
    "dh['au_equiv'] = dh['au'] +  dh['ag'] * factor\r\n",
    "dh"
   ],
   "outputs": [
    {
     "output_type": "execute_result",
     "data": {
      "text/html": [
       "<div>\n",
       "<style scoped>\n",
       "    .dataframe tbody tr th:only-of-type {\n",
       "        vertical-align: middle;\n",
       "    }\n",
       "\n",
       "    .dataframe tbody tr th {\n",
       "        vertical-align: top;\n",
       "    }\n",
       "\n",
       "    .dataframe thead th {\n",
       "        text-align: right;\n",
       "    }\n",
       "</style>\n",
       "<table border=\"1\" class=\"dataframe\">\n",
       "  <thead>\n",
       "    <tr style=\"text-align: right;\">\n",
       "      <th></th>\n",
       "      <th>DDH</th>\n",
       "      <th>Thickness</th>\n",
       "      <th>au</th>\n",
       "      <th>ag</th>\n",
       "      <th>au_equiv</th>\n",
       "    </tr>\n",
       "  </thead>\n",
       "  <tbody>\n",
       "    <tr>\n",
       "      <th>0</th>\n",
       "      <td>1</td>\n",
       "      <td>1.2</td>\n",
       "      <td>1.5</td>\n",
       "      <td>40</td>\n",
       "      <td>1.967836</td>\n",
       "    </tr>\n",
       "    <tr>\n",
       "      <th>1</th>\n",
       "      <td>2</td>\n",
       "      <td>1.6</td>\n",
       "      <td>2.3</td>\n",
       "      <td>60</td>\n",
       "      <td>3.001754</td>\n",
       "    </tr>\n",
       "    <tr>\n",
       "      <th>2</th>\n",
       "      <td>3</td>\n",
       "      <td>0.0</td>\n",
       "      <td>0.0</td>\n",
       "      <td>20</td>\n",
       "      <td>0.233918</td>\n",
       "    </tr>\n",
       "    <tr>\n",
       "      <th>3</th>\n",
       "      <td>4</td>\n",
       "      <td>2.5</td>\n",
       "      <td>11.0</td>\n",
       "      <td>180</td>\n",
       "      <td>13.105263</td>\n",
       "    </tr>\n",
       "    <tr>\n",
       "      <th>4</th>\n",
       "      <td>5</td>\n",
       "      <td>2.7</td>\n",
       "      <td>13.2</td>\n",
       "      <td>250</td>\n",
       "      <td>16.123977</td>\n",
       "    </tr>\n",
       "    <tr>\n",
       "      <th>5</th>\n",
       "      <td>6</td>\n",
       "      <td>0.0</td>\n",
       "      <td>0.0</td>\n",
       "      <td>30</td>\n",
       "      <td>0.350877</td>\n",
       "    </tr>\n",
       "    <tr>\n",
       "      <th>6</th>\n",
       "      <td>7</td>\n",
       "      <td>2.2</td>\n",
       "      <td>9.0</td>\n",
       "      <td>150</td>\n",
       "      <td>10.754386</td>\n",
       "    </tr>\n",
       "    <tr>\n",
       "      <th>7</th>\n",
       "      <td>8</td>\n",
       "      <td>1.6</td>\n",
       "      <td>4.8</td>\n",
       "      <td>55</td>\n",
       "      <td>5.443275</td>\n",
       "    </tr>\n",
       "    <tr>\n",
       "      <th>8</th>\n",
       "      <td>9</td>\n",
       "      <td>2.6</td>\n",
       "      <td>8.4</td>\n",
       "      <td>175</td>\n",
       "      <td>10.446784</td>\n",
       "    </tr>\n",
       "    <tr>\n",
       "      <th>9</th>\n",
       "      <td>10</td>\n",
       "      <td>1.5</td>\n",
       "      <td>1.8</td>\n",
       "      <td>20</td>\n",
       "      <td>2.033918</td>\n",
       "    </tr>\n",
       "  </tbody>\n",
       "</table>\n",
       "</div>"
      ],
      "text/plain": [
       "   DDH  Thickness    au   ag   au_equiv\n",
       "0    1        1.2   1.5   40   1.967836\n",
       "1    2        1.6   2.3   60   3.001754\n",
       "2    3        0.0   0.0   20   0.233918\n",
       "3    4        2.5  11.0  180  13.105263\n",
       "4    5        2.7  13.2  250  16.123977\n",
       "5    6        0.0   0.0   30   0.350877\n",
       "6    7        2.2   9.0  150  10.754386\n",
       "7    8        1.6   4.8   55   5.443275\n",
       "8    9        2.6   8.4  175  10.446784\n",
       "9   10        1.5   1.8   20   2.033918"
      ]
     },
     "metadata": {},
     "execution_count": 28
    }
   ],
   "metadata": {}
  },
  {
   "cell_type": "markdown",
   "source": [
    "**b) Using the cutoff grade calculated in question 4, estimate the tonnes of ore contained in this deposit. Based on the plane of vein sketch, you could assume an area of influence of 800 m2  per drill hole**"
   ],
   "metadata": {}
  },
  {
   "cell_type": "code",
   "execution_count": 29,
   "source": [
    "area_dh = 800  # Assumption\r\n",
    "density = 2.9\r\n",
    "\r\n",
    "dh['tonnage'] = dh['Thickness'] * area_dh * density\r\n",
    "tonnage = dh['tonnage'].sum()\r\n",
    "\r\n",
    "print(dh)\r\n",
    "print('Tonnage (tons):', tonnage)"
   ],
   "outputs": [
    {
     "output_type": "stream",
     "name": "stdout",
     "text": [
      "   DDH  Thickness    au   ag   au_equiv  tonnage\n",
      "0    1        1.2   1.5   40   1.967836   2784.0\n",
      "1    2        1.6   2.3   60   3.001754   3712.0\n",
      "2    3        0.0   0.0   20   0.233918      0.0\n",
      "3    4        2.5  11.0  180  13.105263   5800.0\n",
      "4    5        2.7  13.2  250  16.123977   6264.0\n",
      "5    6        0.0   0.0   30   0.350877      0.0\n",
      "6    7        2.2   9.0  150  10.754386   5104.0\n",
      "7    8        1.6   4.8   55   5.443275   3712.0\n",
      "8    9        2.6   8.4  175  10.446784   6032.0\n",
      "9   10        1.5   1.8   20   2.033918   3480.0\n",
      "Tonnage (tons): 36888.0\n"
     ]
    }
   ],
   "metadata": {}
  },
  {
   "cell_type": "markdown",
   "source": [
    "**c) Calculate the gross and net value of the ore. Discuss uncertainty and sensitivity.**\r\n"
   ],
   "metadata": {}
  },
  {
   "cell_type": "code",
   "execution_count": 30,
   "source": [
    "dh['au_content_gr'] = dh['tonnage'] * dh['au'] * recovery_au\r\n",
    "dh['ag_content_gr'] = dh['tonnage'] * dh['ag'] * recovery_ag\r\n",
    "\r\n",
    "mining_cost_total = tonnage * total_cost / 1.33\r\n",
    "\r\n",
    "gross_revenue_au = dh['au_content_gr'].sum() / 31.1035 * price_au\r\n",
    "gross_revenue_ag = dh['ag_content_gr'].sum() / 31.1035 * price_ag\r\n",
    "\r\n",
    "gross_revenue = gross_revenue_au + gross_revenue_ag\r\n",
    "\r\n",
    "net_revenue = gross_revenue - mining_cost_total\r\n",
    "\r\n",
    "print('Total mining cost:',round(mining_cost_total,3),'$USD')\r\n",
    "print('Gross Revenue',round(gross_revenue,3), '$USD')\r\n",
    "print('Net Revenue',round(net_revenue,3), '$USD')"
   ],
   "outputs": [
    {
     "output_type": "stream",
     "name": "stdout",
     "text": [
      "Total mining cost: 2912210.526 $USD\n",
      "Gross Revenue 18627608.083 $USD\n",
      "Net Revenue 15715397.556 $USD\n"
     ]
    }
   ],
   "metadata": {}
  },
  {
   "cell_type": "code",
   "execution_count": null,
   "source": [],
   "outputs": [],
   "metadata": {}
  }
 ],
 "metadata": {
  "orig_nbformat": 4,
  "language_info": {
   "name": "python",
   "version": "3.8.11",
   "mimetype": "text/x-python",
   "codemirror_mode": {
    "name": "ipython",
    "version": 3
   },
   "pygments_lexer": "ipython3",
   "nbconvert_exporter": "python",
   "file_extension": ".py"
  },
  "kernelspec": {
   "name": "python3",
   "display_name": "Python 3.8.11 64-bit ('htpg': conda)"
  },
  "interpreter": {
   "hash": "f5f952dabc6915679ad7f43434c27b8fa5d69ce880d5b9c0a7a8aa3b0cb0937d"
  }
 },
 "nbformat": 4,
 "nbformat_minor": 2
}