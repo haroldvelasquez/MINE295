{
 "cells": [
  {
   "cell_type": "markdown",
   "source": [
    "# Assignment 03 \r\n",
    "**MIN-E 295**  \r\n",
    "Help Session\r\n",
    "\r\n",
    "Norris Amihere   namihere@ualberta.ca  \r\n",
    "Harold Velasquez  hvelasquez@ualberta.ca  "
   ],
   "metadata": {}
  },
  {
   "cell_type": "markdown",
   "source": [
    "## **Question 1**"
   ],
   "metadata": {}
  },
  {
   "cell_type": "markdown",
   "source": [
    "**a) Draw the sampling locations using a computer program or simply by hand on a paper**"
   ],
   "metadata": {}
  },
  {
   "cell_type": "markdown",
   "source": [
    "The inverse distance weighting estimation formula is given as follows:  \r\n",
    "  \r\n",
    "$z^{*}\\left(\\mathbf{u}_{0}\\right)=\\frac{\\sum_{i=1}^{n} w\\left(\\mathbf{u}_{i}\\right) z\\left(\\mathbf{u}_{i}\\right)}{\\sum_{i=1}^{n} w\\left(\\mathbf{u}_{i}\\right)}$\r\n",
    "\r\n",
    "\r\n",
    "Where $z^{*}(u_{o})$ is the estimate assigned to the unknown location; $𝑧(u_{i})$ is the 𝑖th sample of the variable and $w(u_{i`})$ is the weight assigned to each available sample $z(u_{i})$. The weight $w(u_{i})$ is calculated by the following formula:  \r\n",
    "  \r\n",
    "  $w\\left(\\mathbf{u}_{i}\\right)=\\frac{1}{d_{i}^{p}}$\r\n",
    "\r\n",
    "\r\n",
    "Where $d_{i}$  is the Euclidean distance between the sample and the location being estimated and the exponent 𝑝 is the parameter controlling the degree to which the nearer samples are preferredover more distant samples. Table contains four spatial (with coordinates easting and northing) samples and the location where an estimate for a measurement of interest is needed."
   ],
   "metadata": {}
  },
  {
   "cell_type": "code",
   "execution_count": 46,
   "source": [
    "# Utilized python libraries\r\n",
    "import matplotlib.pyplot as plt\r\n",
    "import pandas as pd\r\n",
    "import numpy as np"
   ],
   "outputs": [],
   "metadata": {}
  },
  {
   "cell_type": "code",
   "execution_count": 47,
   "source": [
    "# X Y and Value data\r\n",
    "data = [[8,15,38], [25,170,120], [260,119,88], [100,80,160], [180,130,170]]\r\n",
    "columns = ['X','Y','value']\r\n",
    "df = pd.DataFrame(data, columns=columns)\r\n",
    "\r\n",
    "# X Y of location to be estimated \r\n",
    "z    = [180,120]\r\n",
    "\r\n",
    "# Print data table\r\n",
    "df"
   ],
   "outputs": [
    {
     "output_type": "execute_result",
     "data": {
      "text/html": [
       "<div>\n",
       "<style scoped>\n",
       "    .dataframe tbody tr th:only-of-type {\n",
       "        vertical-align: middle;\n",
       "    }\n",
       "\n",
       "    .dataframe tbody tr th {\n",
       "        vertical-align: top;\n",
       "    }\n",
       "\n",
       "    .dataframe thead th {\n",
       "        text-align: right;\n",
       "    }\n",
       "</style>\n",
       "<table border=\"1\" class=\"dataframe\">\n",
       "  <thead>\n",
       "    <tr style=\"text-align: right;\">\n",
       "      <th></th>\n",
       "      <th>X</th>\n",
       "      <th>Y</th>\n",
       "      <th>value</th>\n",
       "    </tr>\n",
       "  </thead>\n",
       "  <tbody>\n",
       "    <tr>\n",
       "      <th>0</th>\n",
       "      <td>8</td>\n",
       "      <td>15</td>\n",
       "      <td>38</td>\n",
       "    </tr>\n",
       "    <tr>\n",
       "      <th>1</th>\n",
       "      <td>25</td>\n",
       "      <td>170</td>\n",
       "      <td>120</td>\n",
       "    </tr>\n",
       "    <tr>\n",
       "      <th>2</th>\n",
       "      <td>260</td>\n",
       "      <td>119</td>\n",
       "      <td>88</td>\n",
       "    </tr>\n",
       "    <tr>\n",
       "      <th>3</th>\n",
       "      <td>100</td>\n",
       "      <td>80</td>\n",
       "      <td>160</td>\n",
       "    </tr>\n",
       "    <tr>\n",
       "      <th>4</th>\n",
       "      <td>180</td>\n",
       "      <td>130</td>\n",
       "      <td>170</td>\n",
       "    </tr>\n",
       "  </tbody>\n",
       "</table>\n",
       "</div>"
      ],
      "text/plain": [
       "     X    Y  value\n",
       "0    8   15     38\n",
       "1   25  170    120\n",
       "2  260  119     88\n",
       "3  100   80    160\n",
       "4  180  130    170"
      ]
     },
     "metadata": {},
     "execution_count": 47
    }
   ],
   "metadata": {}
  },
  {
   "cell_type": "code",
   "execution_count": 48,
   "source": [
    "# Scatter plot of data\r\n",
    "plt.scatter(df['X'], df['Y'], c='r', edgecolor='k')\r\n",
    "\r\n",
    "# plot of point to be estimated\r\n",
    "plt.scatter(z[0], z[1], c='b', edgecolor='k')\r\n",
    "\r\n",
    "# Plot labels\r\n",
    "plt.xlabel('Easting')\r\n",
    "plt.ylabel('Northing')\r\n",
    "plt.grid()\r\n",
    "\r\n",
    "# Red points represent data. Blue point is location to be estimated"
   ],
   "outputs": [
    {
     "output_type": "display_data",
     "data": {
      "image/png": "[encoded data removed]",
      "text/plain": [
       "<Figure size 432x288 with 1 Axes>"
      ]
     },
     "metadata": {
      "needs_background": "light"
     }
    }
   ],
   "metadata": {}
  },
  {
   "cell_type": "markdown",
   "source": [
    "**b) Assign an estimate to the unknown location using the inverse distance weighting estimation method.** \r\n"
   ],
   "metadata": {}
  },
  {
   "cell_type": "code",
   "execution_count": 49,
   "source": [
    "# Calculate the distance between two points in XY\r\n",
    "df['Distance'] = ((df['X']-z[0])**2 + (df['Y'] - z[1])**2) **0.5\r\n",
    "df"
   ],
   "outputs": [
    {
     "output_type": "execute_result",
     "data": {
      "text/html": [
       "<div>\n",
       "<style scoped>\n",
       "    .dataframe tbody tr th:only-of-type {\n",
       "        vertical-align: middle;\n",
       "    }\n",
       "\n",
       "    .dataframe tbody tr th {\n",
       "        vertical-align: top;\n",
       "    }\n",
       "\n",
       "    .dataframe thead th {\n",
       "        text-align: right;\n",
       "    }\n",
       "</style>\n",
       "<table border=\"1\" class=\"dataframe\">\n",
       "  <thead>\n",
       "    <tr style=\"text-align: right;\">\n",
       "      <th></th>\n",
       "      <th>X</th>\n",
       "      <th>Y</th>\n",
       "      <th>value</th>\n",
       "      <th>Distance</th>\n",
       "    </tr>\n",
       "  </thead>\n",
       "  <tbody>\n",
       "    <tr>\n",
       "      <th>0</th>\n",
       "      <td>8</td>\n",
       "      <td>15</td>\n",
       "      <td>38</td>\n",
       "      <td>201.516749</td>\n",
       "    </tr>\n",
       "    <tr>\n",
       "      <th>1</th>\n",
       "      <td>25</td>\n",
       "      <td>170</td>\n",
       "      <td>120</td>\n",
       "      <td>162.864975</td>\n",
       "    </tr>\n",
       "    <tr>\n",
       "      <th>2</th>\n",
       "      <td>260</td>\n",
       "      <td>119</td>\n",
       "      <td>88</td>\n",
       "      <td>80.006250</td>\n",
       "    </tr>\n",
       "    <tr>\n",
       "      <th>3</th>\n",
       "      <td>100</td>\n",
       "      <td>80</td>\n",
       "      <td>160</td>\n",
       "      <td>89.442719</td>\n",
       "    </tr>\n",
       "    <tr>\n",
       "      <th>4</th>\n",
       "      <td>180</td>\n",
       "      <td>130</td>\n",
       "      <td>170</td>\n",
       "      <td>10.000000</td>\n",
       "    </tr>\n",
       "  </tbody>\n",
       "</table>\n",
       "</div>"
      ],
      "text/plain": [
       "     X    Y  value    Distance\n",
       "0    8   15     38  201.516749\n",
       "1   25  170    120  162.864975\n",
       "2  260  119     88   80.006250\n",
       "3  100   80    160   89.442719\n",
       "4  180  130    170   10.000000"
      ]
     },
     "metadata": {},
     "execution_count": 49
    }
   ],
   "metadata": {}
  },
  {
   "cell_type": "markdown",
   "source": [
    "Weight assigned to each measurement is inversely proportional to the distance to the power of a parameter $p$  \r\n",
    "$w\\left(\\mathbf{u}_{i}\\right)=\\frac{1}{d_{i}^{p}}$"
   ],
   "metadata": {}
  },
  {
   "cell_type": "code",
   "execution_count": 50,
   "source": [
    "# Calculate the weighting factor in IDW. Parameter p = 3\r\n",
    "df['Weight'] = (df['Distance']**(-1))**3\r\n",
    "df"
   ],
   "outputs": [
    {
     "output_type": "execute_result",
     "data": {
      "text/html": [
       "<div>\n",
       "<style scoped>\n",
       "    .dataframe tbody tr th:only-of-type {\n",
       "        vertical-align: middle;\n",
       "    }\n",
       "\n",
       "    .dataframe tbody tr th {\n",
       "        vertical-align: top;\n",
       "    }\n",
       "\n",
       "    .dataframe thead th {\n",
       "        text-align: right;\n",
       "    }\n",
       "</style>\n",
       "<table border=\"1\" class=\"dataframe\">\n",
       "  <thead>\n",
       "    <tr style=\"text-align: right;\">\n",
       "      <th></th>\n",
       "      <th>X</th>\n",
       "      <th>Y</th>\n",
       "      <th>value</th>\n",
       "      <th>Distance</th>\n",
       "      <th>Weight</th>\n",
       "    </tr>\n",
       "  </thead>\n",
       "  <tbody>\n",
       "    <tr>\n",
       "      <th>0</th>\n",
       "      <td>8</td>\n",
       "      <td>15</td>\n",
       "      <td>38</td>\n",
       "      <td>201.516749</td>\n",
       "      <td>1.221987e-07</td>\n",
       "    </tr>\n",
       "    <tr>\n",
       "      <th>1</th>\n",
       "      <td>25</td>\n",
       "      <td>170</td>\n",
       "      <td>120</td>\n",
       "      <td>162.864975</td>\n",
       "      <td>2.314818e-07</td>\n",
       "    </tr>\n",
       "    <tr>\n",
       "      <th>2</th>\n",
       "      <td>260</td>\n",
       "      <td>119</td>\n",
       "      <td>88</td>\n",
       "      <td>80.006250</td>\n",
       "      <td>1.952667e-06</td>\n",
       "    </tr>\n",
       "    <tr>\n",
       "      <th>3</th>\n",
       "      <td>100</td>\n",
       "      <td>80</td>\n",
       "      <td>160</td>\n",
       "      <td>89.442719</td>\n",
       "      <td>1.397542e-06</td>\n",
       "    </tr>\n",
       "    <tr>\n",
       "      <th>4</th>\n",
       "      <td>180</td>\n",
       "      <td>130</td>\n",
       "      <td>170</td>\n",
       "      <td>10.000000</td>\n",
       "      <td>1.000000e-03</td>\n",
       "    </tr>\n",
       "  </tbody>\n",
       "</table>\n",
       "</div>"
      ],
      "text/plain": [
       "     X    Y  value    Distance        Weight\n",
       "0    8   15     38  201.516749  1.221987e-07\n",
       "1   25  170    120  162.864975  2.314818e-07\n",
       "2  260  119     88   80.006250  1.952667e-06\n",
       "3  100   80    160   89.442719  1.397542e-06\n",
       "4  180  130    170   10.000000  1.000000e-03"
      ]
     },
     "metadata": {},
     "execution_count": 50
    }
   ],
   "metadata": {}
  },
  {
   "cell_type": "code",
   "execution_count": 51,
   "source": [
    "# values times the respective weight\r\n",
    "df['Weight*value'] = df['Weight'] * df['value']\r\n",
    "df"
   ],
   "outputs": [
    {
     "output_type": "execute_result",
     "data": {
      "text/html": [
       "<div>\n",
       "<style scoped>\n",
       "    .dataframe tbody tr th:only-of-type {\n",
       "        vertical-align: middle;\n",
       "    }\n",
       "\n",
       "    .dataframe tbody tr th {\n",
       "        vertical-align: top;\n",
       "    }\n",
       "\n",
       "    .dataframe thead th {\n",
       "        text-align: right;\n",
       "    }\n",
       "</style>\n",
       "<table border=\"1\" class=\"dataframe\">\n",
       "  <thead>\n",
       "    <tr style=\"text-align: right;\">\n",
       "      <th></th>\n",
       "      <th>X</th>\n",
       "      <th>Y</th>\n",
       "      <th>value</th>\n",
       "      <th>Distance</th>\n",
       "      <th>Weight</th>\n",
       "      <th>Weight*value</th>\n",
       "    </tr>\n",
       "  </thead>\n",
       "  <tbody>\n",
       "    <tr>\n",
       "      <th>0</th>\n",
       "      <td>8</td>\n",
       "      <td>15</td>\n",
       "      <td>38</td>\n",
       "      <td>201.516749</td>\n",
       "      <td>1.221987e-07</td>\n",
       "      <td>0.000005</td>\n",
       "    </tr>\n",
       "    <tr>\n",
       "      <th>1</th>\n",
       "      <td>25</td>\n",
       "      <td>170</td>\n",
       "      <td>120</td>\n",
       "      <td>162.864975</td>\n",
       "      <td>2.314818e-07</td>\n",
       "      <td>0.000028</td>\n",
       "    </tr>\n",
       "    <tr>\n",
       "      <th>2</th>\n",
       "      <td>260</td>\n",
       "      <td>119</td>\n",
       "      <td>88</td>\n",
       "      <td>80.006250</td>\n",
       "      <td>1.952667e-06</td>\n",
       "      <td>0.000172</td>\n",
       "    </tr>\n",
       "    <tr>\n",
       "      <th>3</th>\n",
       "      <td>100</td>\n",
       "      <td>80</td>\n",
       "      <td>160</td>\n",
       "      <td>89.442719</td>\n",
       "      <td>1.397542e-06</td>\n",
       "      <td>0.000224</td>\n",
       "    </tr>\n",
       "    <tr>\n",
       "      <th>4</th>\n",
       "      <td>180</td>\n",
       "      <td>130</td>\n",
       "      <td>170</td>\n",
       "      <td>10.000000</td>\n",
       "      <td>1.000000e-03</td>\n",
       "      <td>0.170000</td>\n",
       "    </tr>\n",
       "  </tbody>\n",
       "</table>\n",
       "</div>"
      ],
      "text/plain": [
       "     X    Y  value    Distance        Weight  Weight*value\n",
       "0    8   15     38  201.516749  1.221987e-07      0.000005\n",
       "1   25  170    120  162.864975  2.314818e-07      0.000028\n",
       "2  260  119     88   80.006250  1.952667e-06      0.000172\n",
       "3  100   80    160   89.442719  1.397542e-06      0.000224\n",
       "4  180  130    170   10.000000  1.000000e-03      0.170000"
      ]
     },
     "metadata": {},
     "execution_count": 51
    }
   ],
   "metadata": {}
  },
  {
   "cell_type": "code",
   "execution_count": 52,
   "source": [
    "# Calculate the estimate\r\n",
    "estimate = df['Weight*value'].sum() / df['Weight'].sum()\r\n",
    "print('Estimated value with IDW:', round(estimate,3))"
   ],
   "outputs": [
    {
     "output_type": "stream",
     "name": "stdout",
     "text": [
      "Estimated value with IDW: 169.799\n"
     ]
    }
   ],
   "metadata": {}
  },
  {
   "cell_type": "markdown",
   "source": [
    "## **Question 2**"
   ],
   "metadata": {}
  },
  {
   "cell_type": "markdown",
   "source": [
    " A mine’s expected gold price is 1780 USD/ozt and silver price of 22.68 USD/ozt. The\r\n",
    "conversion rate from CAD to USD is expected to be 1.3 CAD/USD. Recall that precious metal\r\n",
    "prices are expressed per troy ounce (ozt) not regular ounce. The anticipated mining operation will\r\n",
    "cost 60 CAD/t of ore to mine and 45 CAD/t of ore to process. Recovery of gold and silver will be\r\n",
    "0.88 and 0.7, respectively. \r\n"
   ],
   "metadata": {}
  },
  {
   "cell_type": "markdown",
   "source": [
    "**a) Calculate a factor to convert the silver grade to an equivalent gold grade**\r\n"
   ],
   "metadata": {}
  },
  {
   "cell_type": "code",
   "execution_count": 53,
   "source": [
    "price_au = 1780           # USD/ozt\r\n",
    "price_ag = 22.68          # USD/ozt\r\n",
    "currency_exchange = 1.30  # CAD/USD\r\n",
    "\r\n",
    "mining_cost = 50          # CAD/t\r\n",
    "processing_cost = 40      # CAD/t\r\n",
    "\r\n",
    "recovery_au = 0.88\r\n",
    "recovery_ag = 0.70"
   ],
   "outputs": [],
   "metadata": {}
  },
  {
   "cell_type": "code",
   "execution_count": 54,
   "source": [
    "# Convert from USD to CAD\r\n",
    "price_au_cad    = price_au * currency_exchange   # CAT/ozt\r\n",
    "# Calculate the price of a gram of metal in CAD\r\n",
    "price_au_cad_gr = price_au_cad / 31.1035         # CAD/gr\r\n",
    "# Value of the recovered metal per gram  in CAD\r\n",
    "recovered_au    = price_au_cad_gr * recovery_au  # CAD/gr\r\n",
    "\r\n",
    "price_ag_cad    = price_ag * currency_exchange   # CAT/ozt\r\n",
    "price_ag_cad_gr = price_ag_cad / 31.1035         # CAD/gr\r\n",
    "recovered_ag    = price_au_cad_gr * recovery_ag  # CAD/gr\r\n",
    "\r\n",
    "print('Gold price CAD/g:' , price_au_cad_gr)\r\n",
    "print('Gold recovered CAD/g:',recovered_au,'\\n')\r\n",
    "\r\n",
    "print('Silver price in CAD/g:' , price_ag_cad_gr)\r\n",
    "print('Gold recovered CAD/g:',recovered_ag)"
   ],
   "outputs": [
    {
     "output_type": "stream",
     "name": "stdout",
     "text": [
      "Gold price CAD/g: 74.39677206745222\n",
      "Gold recovered CAD/g: 65.46915941935795 \n",
      "\n",
      "Silver price in CAD/g: 0.9479319047695598\n",
      "Gold recovered CAD/g: 52.07774044721655\n"
     ]
    }
   ],
   "metadata": {}
  },
  {
   "cell_type": "markdown",
   "source": [
    "The equivalent value of Silver with respect to Au is the ratio. Here the recovery is also considered."
   ],
   "metadata": {}
  },
  {
   "cell_type": "code",
   "execution_count": 55,
   "source": [
    "# Equivalency Factor for Ag in relation to Au\r\n",
    "factor = (price_ag_cad*recovery_ag) / (price_au_cad * recovery_au)\r\n",
    "print('Conversion Factor:', round(factor,4))"
   ],
   "outputs": [
    {
     "output_type": "stream",
     "name": "stdout",
     "text": [
      "Conversion Factor: 0.0101\n"
     ]
    }
   ],
   "metadata": {}
  },
  {
   "cell_type": "markdown",
   "source": [
    "**b) Calculate the cutoff grade in units of g/t for gold**\r\n"
   ],
   "metadata": {}
  },
  {
   "cell_type": "code",
   "execution_count": 56,
   "source": [
    "# mining and processing costs in CAD\r\n",
    "total_cost = mining_cost + processing_cost\r\n",
    "\r\n",
    "# Calculate cutoff of Gold\r\n",
    "cutoff_au = total_cost / recovered_au\r\n",
    "print('Cutoff for Gold:',round(cutoff_au,2),'g/t')"
   ],
   "outputs": [
    {
     "output_type": "stream",
     "name": "stdout",
     "text": [
      "Cutoff for Gold: 1.37 g/t\n"
     ]
    }
   ],
   "metadata": {}
  },
  {
   "cell_type": "markdown",
   "source": [
    "## **Question 3**"
   ],
   "metadata": {}
  },
  {
   "cell_type": "markdown",
   "source": [
    "You are considering a small gold/silver vein with 10 drill holes (plane of vein sketch in Figure 2) using the information in question 2. Assays and ore thickness perpendicular to the plane of vein are included in Table. The average specific gravity of the deposit is 2.7. The mineralized region is indicated by the red dashed line, but drill holes inside may not be profitable to process. "
   ],
   "metadata": {}
  },
  {
   "cell_type": "markdown",
   "source": [
    "**a) Calculate the gold equivalent grade for each drill hole.**"
   ],
   "metadata": {}
  },
  {
   "cell_type": "code",
   "execution_count": 57,
   "source": [
    "# Drill hole data: DDH, Thickness, Au, Ag\r\n",
    "dh_data = [[1,1.2,1.2,38],[2,1.6,2.3,47],[3,0,0,18],\r\n",
    "        [4,2.1,10,150],[5,2.7,11,211.5],[6,0,0,25],\r\n",
    "        [7,1.2,9,155],[6,1.6,4.8,50],[9,2.6,8.4,160],[10,1.5,1.8,17]]\r\n",
    "\r\n",
    "# Name for columns\r\n",
    "columns = ['DDH','Thickness','au','ag']\r\n",
    "\r\n",
    "# Pandas dataframe\r\n",
    "dh = pd.DataFrame(dh_data, columns=columns)\r\n",
    "dh"
   ],
   "outputs": [
    {
     "output_type": "execute_result",
     "data": {
      "text/html": [
       "<div>\n",
       "<style scoped>\n",
       "    .dataframe tbody tr th:only-of-type {\n",
       "        vertical-align: middle;\n",
       "    }\n",
       "\n",
       "    .dataframe tbody tr th {\n",
       "        vertical-align: top;\n",
       "    }\n",
       "\n",
       "    .dataframe thead th {\n",
       "        text-align: right;\n",
       "    }\n",
       "</style>\n",
       "<table border=\"1\" class=\"dataframe\">\n",
       "  <thead>\n",
       "    <tr style=\"text-align: right;\">\n",
       "      <th></th>\n",
       "      <th>DDH</th>\n",
       "      <th>Thickness</th>\n",
       "      <th>au</th>\n",
       "      <th>ag</th>\n",
       "    </tr>\n",
       "  </thead>\n",
       "  <tbody>\n",
       "    <tr>\n",
       "      <th>0</th>\n",
       "      <td>1</td>\n",
       "      <td>1.2</td>\n",
       "      <td>1.2</td>\n",
       "      <td>38.0</td>\n",
       "    </tr>\n",
       "    <tr>\n",
       "      <th>1</th>\n",
       "      <td>2</td>\n",
       "      <td>1.6</td>\n",
       "      <td>2.3</td>\n",
       "      <td>47.0</td>\n",
       "    </tr>\n",
       "    <tr>\n",
       "      <th>2</th>\n",
       "      <td>3</td>\n",
       "      <td>0.0</td>\n",
       "      <td>0.0</td>\n",
       "      <td>18.0</td>\n",
       "    </tr>\n",
       "    <tr>\n",
       "      <th>3</th>\n",
       "      <td>4</td>\n",
       "      <td>2.1</td>\n",
       "      <td>10.0</td>\n",
       "      <td>150.0</td>\n",
       "    </tr>\n",
       "    <tr>\n",
       "      <th>4</th>\n",
       "      <td>5</td>\n",
       "      <td>2.7</td>\n",
       "      <td>11.0</td>\n",
       "      <td>211.5</td>\n",
       "    </tr>\n",
       "    <tr>\n",
       "      <th>5</th>\n",
       "      <td>6</td>\n",
       "      <td>0.0</td>\n",
       "      <td>0.0</td>\n",
       "      <td>25.0</td>\n",
       "    </tr>\n",
       "    <tr>\n",
       "      <th>6</th>\n",
       "      <td>7</td>\n",
       "      <td>1.2</td>\n",
       "      <td>9.0</td>\n",
       "      <td>155.0</td>\n",
       "    </tr>\n",
       "    <tr>\n",
       "      <th>7</th>\n",
       "      <td>6</td>\n",
       "      <td>1.6</td>\n",
       "      <td>4.8</td>\n",
       "      <td>50.0</td>\n",
       "    </tr>\n",
       "    <tr>\n",
       "      <th>8</th>\n",
       "      <td>9</td>\n",
       "      <td>2.6</td>\n",
       "      <td>8.4</td>\n",
       "      <td>160.0</td>\n",
       "    </tr>\n",
       "    <tr>\n",
       "      <th>9</th>\n",
       "      <td>10</td>\n",
       "      <td>1.5</td>\n",
       "      <td>1.8</td>\n",
       "      <td>17.0</td>\n",
       "    </tr>\n",
       "  </tbody>\n",
       "</table>\n",
       "</div>"
      ],
      "text/plain": [
       "   DDH  Thickness    au     ag\n",
       "0    1        1.2   1.2   38.0\n",
       "1    2        1.6   2.3   47.0\n",
       "2    3        0.0   0.0   18.0\n",
       "3    4        2.1  10.0  150.0\n",
       "4    5        2.7  11.0  211.5\n",
       "5    6        0.0   0.0   25.0\n",
       "6    7        1.2   9.0  155.0\n",
       "7    6        1.6   4.8   50.0\n",
       "8    9        2.6   8.4  160.0\n",
       "9   10        1.5   1.8   17.0"
      ]
     },
     "metadata": {},
     "execution_count": 57
    }
   ],
   "metadata": {}
  },
  {
   "cell_type": "markdown",
   "source": [
    "Equivalent Au consider the scaled contribution of Ag"
   ],
   "metadata": {}
  },
  {
   "cell_type": "code",
   "execution_count": 58,
   "source": [
    "# Equivalent Au considering Ag contribution\r\n",
    "dh['au_equiv'] = dh['au'] +  dh['ag'] * factor\r\n",
    "dh"
   ],
   "outputs": [
    {
     "output_type": "execute_result",
     "data": {
      "text/html": [
       "<div>\n",
       "<style scoped>\n",
       "    .dataframe tbody tr th:only-of-type {\n",
       "        vertical-align: middle;\n",
       "    }\n",
       "\n",
       "    .dataframe tbody tr th {\n",
       "        vertical-align: top;\n",
       "    }\n",
       "\n",
       "    .dataframe thead th {\n",
       "        text-align: right;\n",
       "    }\n",
       "</style>\n",
       "<table border=\"1\" class=\"dataframe\">\n",
       "  <thead>\n",
       "    <tr style=\"text-align: right;\">\n",
       "      <th></th>\n",
       "      <th>DDH</th>\n",
       "      <th>Thickness</th>\n",
       "      <th>au</th>\n",
       "      <th>ag</th>\n",
       "      <th>au_equiv</th>\n",
       "    </tr>\n",
       "  </thead>\n",
       "  <tbody>\n",
       "    <tr>\n",
       "      <th>0</th>\n",
       "      <td>1</td>\n",
       "      <td>1.2</td>\n",
       "      <td>1.2</td>\n",
       "      <td>38.0</td>\n",
       "      <td>1.585143</td>\n",
       "    </tr>\n",
       "    <tr>\n",
       "      <th>1</th>\n",
       "      <td>2</td>\n",
       "      <td>1.6</td>\n",
       "      <td>2.3</td>\n",
       "      <td>47.0</td>\n",
       "      <td>2.776361</td>\n",
       "    </tr>\n",
       "    <tr>\n",
       "      <th>2</th>\n",
       "      <td>3</td>\n",
       "      <td>0.0</td>\n",
       "      <td>0.0</td>\n",
       "      <td>18.0</td>\n",
       "      <td>0.182436</td>\n",
       "    </tr>\n",
       "    <tr>\n",
       "      <th>3</th>\n",
       "      <td>4</td>\n",
       "      <td>2.1</td>\n",
       "      <td>10.0</td>\n",
       "      <td>150.0</td>\n",
       "      <td>11.520301</td>\n",
       "    </tr>\n",
       "    <tr>\n",
       "      <th>4</th>\n",
       "      <td>5</td>\n",
       "      <td>2.7</td>\n",
       "      <td>11.0</td>\n",
       "      <td>211.5</td>\n",
       "      <td>13.143625</td>\n",
       "    </tr>\n",
       "    <tr>\n",
       "      <th>5</th>\n",
       "      <td>6</td>\n",
       "      <td>0.0</td>\n",
       "      <td>0.0</td>\n",
       "      <td>25.0</td>\n",
       "      <td>0.253384</td>\n",
       "    </tr>\n",
       "    <tr>\n",
       "      <th>6</th>\n",
       "      <td>7</td>\n",
       "      <td>1.2</td>\n",
       "      <td>9.0</td>\n",
       "      <td>155.0</td>\n",
       "      <td>10.570978</td>\n",
       "    </tr>\n",
       "    <tr>\n",
       "      <th>7</th>\n",
       "      <td>6</td>\n",
       "      <td>1.6</td>\n",
       "      <td>4.8</td>\n",
       "      <td>50.0</td>\n",
       "      <td>5.306767</td>\n",
       "    </tr>\n",
       "    <tr>\n",
       "      <th>8</th>\n",
       "      <td>9</td>\n",
       "      <td>2.6</td>\n",
       "      <td>8.4</td>\n",
       "      <td>160.0</td>\n",
       "      <td>10.021655</td>\n",
       "    </tr>\n",
       "    <tr>\n",
       "      <th>9</th>\n",
       "      <td>10</td>\n",
       "      <td>1.5</td>\n",
       "      <td>1.8</td>\n",
       "      <td>17.0</td>\n",
       "      <td>1.972301</td>\n",
       "    </tr>\n",
       "  </tbody>\n",
       "</table>\n",
       "</div>"
      ],
      "text/plain": [
       "   DDH  Thickness    au     ag   au_equiv\n",
       "0    1        1.2   1.2   38.0   1.585143\n",
       "1    2        1.6   2.3   47.0   2.776361\n",
       "2    3        0.0   0.0   18.0   0.182436\n",
       "3    4        2.1  10.0  150.0  11.520301\n",
       "4    5        2.7  11.0  211.5  13.143625\n",
       "5    6        0.0   0.0   25.0   0.253384\n",
       "6    7        1.2   9.0  155.0  10.570978\n",
       "7    6        1.6   4.8   50.0   5.306767\n",
       "8    9        2.6   8.4  160.0  10.021655\n",
       "9   10        1.5   1.8   17.0   1.972301"
      ]
     },
     "metadata": {},
     "execution_count": 58
    }
   ],
   "metadata": {}
  },
  {
   "cell_type": "markdown",
   "source": [
    "**b) Using the cutoff grade calculated in question 2, estimate the tonnes of ore contained in this deposit. Based on the plane of vein sketch, you could assume an area of influence of 500 m2  per drill hole**"
   ],
   "metadata": {}
  },
  {
   "cell_type": "code",
   "execution_count": 59,
   "source": [
    "# Influence area of each drillhole\r\n",
    "area_dh = 500  # Assumption\r\n",
    "\r\n",
    "density = 2.7\r\n",
    "\r\n",
    "# Calculate the related tonnage for each drillhole\r\n",
    "dh['tonnage'] = dh['Thickness'] * area_dh * density\r\n",
    "\r\n",
    "# Total tonnage for all drillholes\r\n",
    "tonnage = dh['tonnage'].sum()\r\n",
    "\r\n",
    "print(dh)\r\n",
    "print('Tonnage (tons):', tonnage)"
   ],
   "outputs": [
    {
     "output_type": "stream",
     "name": "stdout",
     "text": [
      "   DDH  Thickness    au     ag   au_equiv  tonnage\n",
      "0    1        1.2   1.2   38.0   1.585143   1620.0\n",
      "1    2        1.6   2.3   47.0   2.776361   2160.0\n",
      "2    3        0.0   0.0   18.0   0.182436      0.0\n",
      "3    4        2.1  10.0  150.0  11.520301   2835.0\n",
      "4    5        2.7  11.0  211.5  13.143625   3645.0\n",
      "5    6        0.0   0.0   25.0   0.253384      0.0\n",
      "6    7        1.2   9.0  155.0  10.570978   1620.0\n",
      "7    6        1.6   4.8   50.0   5.306767   2160.0\n",
      "8    9        2.6   8.4  160.0  10.021655   3510.0\n",
      "9   10        1.5   1.8   17.0   1.972301   2025.0\n",
      "Tonnage (tons): 19575.0\n"
     ]
    }
   ],
   "metadata": {}
  },
  {
   "cell_type": "markdown",
   "source": [
    "**c) Calculate the gross and net value of the ore. Discuss uncertainty and sensitivity.**\r\n"
   ],
   "metadata": {}
  },
  {
   "cell_type": "code",
   "execution_count": 60,
   "source": [
    "# Metal content in grams. Tonnage times the g/t\r\n",
    "dh['au_content_gr'] = dh['tonnage'] * dh['au'] * recovery_au\r\n",
    "dh['ag_content_gr'] = dh['tonnage'] * dh['ag'] * recovery_ag\r\n",
    "\r\n",
    "# Mining costs in USD\r\n",
    "mining_cost_total = tonnage * total_cost / 1.33\r\n",
    "\r\n",
    "# Au and Ag Gross Revenue in USD \r\n",
    "gross_revenue_au = dh['au_content_gr'].sum() / 31.1035 * price_au\r\n",
    "gross_revenue_ag = dh['ag_content_gr'].sum() / 31.1035 * price_ag\r\n",
    "\r\n",
    "# Total Gross Revenue in USD \r\n",
    "gross_revenue = gross_revenue_au + gross_revenue_ag\r\n",
    "\r\n",
    "# Net Revenue in USD\r\n",
    "net_revenue = gross_revenue - mining_cost_total\r\n",
    "\r\n",
    "print('Total mining cost:',round(mining_cost_total,3),'$USD')\r\n",
    "print('Gross Revenue',round(gross_revenue,3), '$USD')\r\n",
    "print('Net Revenue',round(net_revenue,3), '$USD')"
   ],
   "outputs": [
    {
     "output_type": "stream",
     "name": "stdout",
     "text": [
      "Total mining cost: 1324624.06 $USD\n",
      "Gross Revenue 7901168.531 $USD\n",
      "Net Revenue 6576544.471 $USD\n"
     ]
    }
   ],
   "metadata": {}
  },
  {
   "cell_type": "code",
   "execution_count": null,
   "source": [],
   "outputs": [],
   "metadata": {}
  }
 ],
 "metadata": {
  "orig_nbformat": 4,
  "language_info": {
   "name": "python",
   "version": "3.8.8",
   "mimetype": "text/x-python",
   "codemirror_mode": {
    "name": "ipython",
    "version": 3
   },
   "pygments_lexer": "ipython3",
   "nbconvert_exporter": "python",
   "file_extension": ".py"
  },
  "kernelspec": {
   "name": "python3",
   "display_name": "Python 3.8.8 64-bit ('base': conda)"
  },
  "interpreter": {
   "hash": "021bc004134477f373a73b383ec3628c589a9581628a675208835eea85679a03"
  }
 },
 "nbformat": 4,
 "nbformat_minor": 2
}